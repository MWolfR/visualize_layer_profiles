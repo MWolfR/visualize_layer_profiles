{
 "cells": [
  {
   "cell_type": "code",
   "execution_count": 1,
   "metadata": {},
   "outputs": [],
   "source": [
    "from reader import read, read_url\n",
    "from grouper import RegionProfile\n",
    "from color_maker import ColorMaker\n",
    "from ipywidgets import widgets\n",
    "from io import BytesIO\n",
    "from zipfile import ZipFile\n",
    "import plotly.graph_objects as go\n",
    "import requests\n",
    "\n",
    "rec_url = \"https://portal.bluebrain.epfl.ch/wp-content/uploads/2019/02/white_matter_FULL_RECIPE_v1p15.yaml_-3.zip\"\n",
    "rec_fn = \"white_matter_FULL_RECIPE_v1p15.yaml\"\n",
    "\n",
    "data, layer_labels = read_url(rec_url, rec_fn)\n",
    "default_target_region = \"SSp-ll\"\n",
    "default_grouping = [\"Region\", \"Projection class\", \"None\"]\n",
    "cols = ColorMaker.factory()\n",
    "\n",
    "r = [RegionProfile(data[default_target_region], layer_labels, colors=cols)]\n",
    "valid_grouping = list(r[0]._types_of_groups.keys()) + [\"None\"]"
   ]
  },
  {
   "cell_type": "code",
   "execution_count": 2,
   "metadata": {
    "scrolled": false
   },
   "outputs": [
    {
     "data": {
      "application/vnd.jupyter.widget-view+json": {
       "model_id": "ab7f86c898164d519667855ba567a285",
       "version_major": 2,
       "version_minor": 0
      },
      "text/plain": [
       "VBox(children=(HBox(children=(Dropdown(description='Target Layer', options=('l1', 'l2,l3', 'l4', 'l5', 'l6'), …"
      ]
     },
     "metadata": {},
     "output_type": "display_data"
    }
   ],
   "source": [
    "layer_selector = widgets.Dropdown(description='Target Layer', value=layer_labels[0], options=layer_labels)\n",
    "region_selector = widgets.Dropdown(description='Target Region', value=default_target_region, options=sorted(data.keys()))\n",
    "grp1_selector = widgets.Dropdown(description='First grouping', value=default_grouping[0],\n",
    "                                options=valid_grouping)\n",
    "grp2_selector = widgets.Dropdown(description='Second grouping', value=default_grouping[1],\n",
    "                                options=valid_grouping)\n",
    "grp3_selector = widgets.Dropdown(description='Third grouping', value=default_grouping[2],\n",
    "                                options=valid_grouping)\n",
    "thresh_selector = widgets.FloatSlider(description=\"Threshold (*1E-3/um^3)\", min=0.0, max=100, value=0.0, step=1.0)\n",
    "\n",
    "r[0]._set_up_groups(order=[_x for _x in default_grouping if _x != \"None\"])\n",
    "fig = r[0].plot_layer(0)\n",
    "\n",
    "def full_update():\n",
    "    l_idx = layer_labels.index(layer_selector.value)\n",
    "    new_labels, offset, lbl_colors = r[0].get_plotly_labels()\n",
    "    link_dict = r[0].get_plotly_links(offset, lbl_colors, l_idx, threshold=thresh_selector.value/1000)\n",
    "    with fig.batch_update():\n",
    "        fig.data[0].node.label = new_labels\n",
    "        fig.data[0].node.color = lbl_colors\n",
    "        fig.data[0].node.update()\n",
    "        fig.data[0].link.update(link_dict)\n",
    "    fig.update_layout()\n",
    "\n",
    "def update_links(change):\n",
    "    l_idx = layer_labels.index(layer_selector.value)\n",
    "    _, offset, lbl_colors = r[0].get_plotly_labels()\n",
    "    link_dict = r[0].get_plotly_links(offset, lbl_colors, l_idx, threshold=thresh_selector.value/1000)\n",
    "    with fig.batch_update():\n",
    "        fig.data[0].link.update(link_dict)\n",
    "\n",
    "def update_region(change):\n",
    "    r.pop()\n",
    "    r.append(RegionProfile(data[region_selector.value], layer_labels, colors=cols))\n",
    "    update_grouping(change)\n",
    "\n",
    "def update_grouping(change):\n",
    "    new_grouping = [grp1_selector.value, grp2_selector.value, grp3_selector.value]\n",
    "    r[0]._set_up_groups(order=[_x for _x in new_grouping if _x != \"None\"])\n",
    "    full_update()\n",
    "    \n",
    "\n",
    "layer_selector.observe(update_links, names=\"value\")\n",
    "thresh_selector.observe(update_links, names=\"value\")\n",
    "region_selector.observe(update_region, names=\"value\")\n",
    "grp1_selector.observe(update_grouping, names=\"value\")\n",
    "grp2_selector.observe(update_grouping, names=\"value\")\n",
    "grp3_selector.observe(update_grouping, names=\"value\")\n",
    "grp_box = widgets.HBox([grp1_selector, grp2_selector, grp3_selector])\n",
    "widgets.VBox([widgets.HBox([layer_selector, region_selector, thresh_selector]),\n",
    "              grp_box,\n",
    "              fig])\n",
    "\n",
    "# fig.show()\n",
    "                              "
   ]
  },
  {
   "cell_type": "code",
   "execution_count": null,
   "metadata": {},
   "outputs": [],
   "source": []
  }
 ],
 "metadata": {
  "kernelspec": {
   "display_name": "Python 3",
   "language": "python",
   "name": "python3"
  },
  "language_info": {
   "codemirror_mode": {
    "name": "ipython",
    "version": 3
   },
   "file_extension": ".py",
   "mimetype": "text/x-python",
   "name": "python",
   "nbconvert_exporter": "python",
   "pygments_lexer": "ipython3",
   "version": "3.7.6"
  }
 },
 "nbformat": 4,
 "nbformat_minor": 4
}
