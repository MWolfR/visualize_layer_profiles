{
 "cells": [
  {
   "cell_type": "code",
   "execution_count": 1,
   "metadata": {},
   "outputs": [],
   "source": [
    "from reader import read, read_url\n",
    "from grouper import RegionProfile\n",
    "from color_maker import ColorMaker\n",
    "from ipywidgets import widgets\n",
    "\n",
    "rec_url = \"https://portal.bluebrain.epfl.ch/wp-content/uploads/2019/02/white_matter_FULL_RECIPE_v1p15.yaml_-3.zip\"\n",
    "rec_fn = \"white_matter_FULL_RECIPE_v1p15.yaml\"\n",
    "\n",
    "data, layer_labels = read_url(rec_url, rec_fn)\n",
    "default_target_region = \"SSp-ll\"\n",
    "default_grouping = [(\"Without layers\", \"By hemisphere\"),\n",
    "                    (\"With layers\", \"All together\"),\n",
    "                    (\"Without layers\", \"By projection class\"),\n",
    "                    (\"Without layers\", \"By region\")]\n",
    "cols = ColorMaker.factory()\n",
    "\n",
    "r = [RegionProfile(data[default_target_region], layer_labels, colors=cols)]\n",
    "valid_grouping = r[0]._types_of_groups + [\"None\"]\n",
    "layer_handling = [\"Without layers\", \"With layers\"]"
   ]
  },
  {
   "cell_type": "code",
   "execution_count": 2,
   "metadata": {
    "scrolled": false
   },
   "outputs": [
    {
     "data": {
      "application/vnd.jupyter.widget-view+json": {
       "model_id": "a98463d53ba54eacb87fd851150976c0",
       "version_major": 2,
       "version_minor": 0
      },
      "text/plain": [
       "VBox(children=(HBox(children=(VBox(children=(Dropdown(description='Target Region', index=24, options=('ACAd', …"
      ]
     },
     "metadata": {},
     "output_type": "display_data"
    }
   ],
   "source": [
    "region_selector = widgets.Dropdown(description='Target Region', value=default_target_region, options=sorted(data.keys()))\n",
    "grp_selectors = [widgets.Dropdown(description='{0} grouping'.format(descr),\n",
    "                                  value=_grouping[1],\n",
    "                                  options=valid_grouping)\n",
    "                for descr, _grouping in zip(['First', 'Second', 'Third', 'Fourth'], default_grouping)]\n",
    "l_selectors = [widgets.Checkbox(description=\"By target layer\",\n",
    "                                value=_grouping[0] == layer_handling[1])\n",
    "               for _grouping in default_grouping]\n",
    "thresh_selector = widgets.FloatSlider(description=\"Threshold (*1E-3/um^3)\", min=0.0, max=100, value=0.0, step=1.0)\n",
    "\n",
    "r[0].set_up_groups([_x for _x in default_grouping])\n",
    "fig = r[0].plot()\n",
    "\n",
    "def full_update():\n",
    "    new_labels, offset, lbl_colors = r[0].get_plotly_labels()\n",
    "    link_dict = r[0].get_plotly_links(offset, lbl_colors, threshold=thresh_selector.value/1000)\n",
    "    with fig.batch_update():\n",
    "        fig.data[0].node.label = new_labels\n",
    "        fig.data[0].node.color = lbl_colors\n",
    "        fig.data[0].node.update()\n",
    "        fig.data[0].link.update(link_dict)\n",
    "    fig.update_layout()\n",
    "\n",
    "def update_links(change):\n",
    "    _, offset, lbl_colors = r[0].get_plotly_labels()\n",
    "    link_dict = r[0].get_plotly_links(offset, lbl_colors, threshold=thresh_selector.value/1000)\n",
    "    with fig.batch_update():\n",
    "        fig.data[0].link.update(link_dict)\n",
    "\n",
    "def update_region(change):\n",
    "    r.pop()\n",
    "    r.append(RegionProfile(data[region_selector.value], layer_labels, colors=cols))\n",
    "    update_grouping(change)\n",
    "\n",
    "def update_grouping(change):\n",
    "    new_grouping = [(layer_handling[c.value], g.value)\n",
    "                    for g, c in zip(grp_selectors, l_selectors)\n",
    "                   if g.value != \"None\"]\n",
    "    r[0].set_up_groups(new_grouping)\n",
    "    full_update()\n",
    "    \n",
    "\n",
    "thresh_selector.observe(update_links, names=\"value\")\n",
    "region_selector.observe(update_region, names=\"value\")\n",
    "[_selector.observe(update_grouping, names=\"value\") for _selector in grp_selectors]\n",
    "[_selector.observe(update_grouping, names=\"value\") for _selector in l_selectors]\n",
    "grp_box = widgets.VBox(list(map(widgets.HBox, zip(grp_selectors, l_selectors))))\n",
    "widgets.VBox([\n",
    "    widgets.HBox([\n",
    "        widgets.VBox([region_selector, thresh_selector]),\n",
    "        grp_box\n",
    "    ]),\n",
    "    fig\n",
    "])\n",
    "\n",
    "                              "
   ]
  },
  {
   "cell_type": "code",
   "execution_count": null,
   "metadata": {},
   "outputs": [],
   "source": []
  }
 ],
 "metadata": {
  "kernelspec": {
   "display_name": "Python 3",
   "language": "python",
   "name": "python3"
  },
  "language_info": {
   "codemirror_mode": {
    "name": "ipython",
    "version": 3
   },
   "file_extension": ".py",
   "mimetype": "text/x-python",
   "name": "python",
   "nbconvert_exporter": "python",
   "pygments_lexer": "ipython3",
   "version": "3.7.6"
  }
 },
 "nbformat": 4,
 "nbformat_minor": 4
}
